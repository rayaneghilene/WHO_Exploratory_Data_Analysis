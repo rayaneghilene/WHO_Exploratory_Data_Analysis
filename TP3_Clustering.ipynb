{
 "cells": [
  {
   "cell_type": "markdown",
   "metadata": {
    "id": "4p92mi01t5pN"
   },
   "source": [
    "# TP: Machine Learning (SIA_3611)\n",
    "\n",
    "## TP3: Clustering (4h) \n",
    "\n",
    "by Clément Bouvier \n",
    "\n",
    "In machine learning, clustering is related to unsupervised learning approaches in which the algorithm fits from the distribution of given data. The main advantage of such methods is detection without a priori of patterns, sorting data and detecting outliers.\n",
    "\n",
    "The given dataset is a combination of a dataset produced by the World Health Organization and the location of countries. It pooled the evolution of 23 features for 15 years among numerous countries. One of the goals of this TP3 is to detect continents and subcontinents.\n",
    "\n",
    "**Objectives:**\n",
    "- Visualize spatial datasets\n",
    "- Apply K-Means and GMM on spatial datasets\n",
    "- Normalize the datasets\n",
    "- Propose a methodology to detect specific pools of data\n",
    "- Evaluate the computed clustering\n"
   ]
  },
  {
   "cell_type": "markdown",
   "metadata": {
    "id": "gBwxJTmcvaqb"
   },
   "source": [
    "## STEP 1: Spatial datasets and first clusters\n",
    "\n"
   ]
  },
  {
   "cell_type": "markdown",
   "metadata": {
    "id": "9jEhQjqh0MGT"
   },
   "source": [
    "The first step is visualizing the mercator projection."
   ]
  },
  {
   "cell_type": "markdown",
   "metadata": {
    "id": "usZpX0NW0erI"
   },
   "source": [
    "**TO DO 1.1**\n",
    "\n",
    "Execute the following cells"
   ]
  },
  {
   "cell_type": "code",
   "execution_count": 3,
   "metadata": {
    "id": "08mBNK4nYz6N"
   },
   "outputs": [
    {
     "name": "stdout",
     "output_type": "stream",
     "text": [
      "<class 'pandas.core.frame.DataFrame'>\n",
      "Int64Index: 1649 entries, 0 to 2937\n",
      "Data columns (total 25 columns):\n",
      " #   Column                           Non-Null Count  Dtype  \n",
      "---  ------                           --------------  -----  \n",
      " 0   Country                          1649 non-null   object \n",
      " 1   Longitude                        1649 non-null   float64\n",
      " 2   Latitude                         1649 non-null   float64\n",
      " 3   Continent                        1649 non-null   object \n",
      " 4   Year                             1649 non-null   int64  \n",
      " 5   Status                           1649 non-null   object \n",
      " 6   Life_expectancy                  1649 non-null   float64\n",
      " 7   Adult_mortality                  1649 non-null   float64\n",
      " 8   Infant_deaths                    1649 non-null   int64  \n",
      " 9   Alcohol                          1649 non-null   float64\n",
      " 10  Percentage_expenditure           1649 non-null   float64\n",
      " 11  Hepatitis_B                      1649 non-null   float64\n",
      " 12  Measles                          1649 non-null   int64  \n",
      " 13  BMI                              1649 non-null   float64\n",
      " 14  Under-five_deaths                1649 non-null   int64  \n",
      " 15  Polio                            1649 non-null   float64\n",
      " 16  Total_expenditure                1649 non-null   float64\n",
      " 17  Diphtheria                       1649 non-null   float64\n",
      " 18  HIV_AIDS                         1649 non-null   float64\n",
      " 19  GDP                              1649 non-null   float64\n",
      " 20  Population                       1649 non-null   float64\n",
      " 21  Thinness _1-19_years             1649 non-null   float64\n",
      " 22  Thinness_5-9_years               1649 non-null   float64\n",
      " 23  Income_composition_of_resources  1649 non-null   float64\n",
      " 24  Schooling                        1649 non-null   float64\n",
      "dtypes: float64(18), int64(4), object(3)\n",
      "memory usage: 335.0+ KB\n"
     ]
    }
   ],
   "source": [
    "import pandas as pd\n",
    "import numpy as np\n",
    "import matplotlib.pyplot as plt\n",
    "import matplotlib.colors\n",
    "\n",
    "df = pd.read_csv(\"data/Life_Expectancy_Data.csv\")\n",
    "df = df.dropna()\n",
    "df.info()\n",
    "\n",
    "df1 = df[(df.Year == 2013)]"
   ]
  },
  {
   "cell_type": "code",
   "execution_count": 4,
   "metadata": {
    "id": "eJYGHJcugns8"
   },
   "outputs": [
    {
     "data": {
      "text/plain": [
       "<module 'matplotlib.pyplot' from '/usr/local/lib/python3.6/dist-packages/matplotlib/pyplot.py'>"
      ]
     },
     "execution_count": 4,
     "metadata": {},
     "output_type": "execute_result"
    },
    {
     "data": {
      "image/png": "[encoded data removed]",
      "text/plain": [
       "<Figure size 432x288 with 1 Axes>"
      ]
     },
     "metadata": {},
     "output_type": "display_data"
    }
   ],
   "source": [
    "df_X = df1[['Longitude', 'Latitude']]\n",
    "df_Status = df1[['Continent']]\n",
    "\n",
    "df_Y = df_Status.replace(['Africa', 'Asia', 'Europe', 'North America', 'South America', 'Seven seas', 'Oceania'], [0, 1, 2, 3, 4, 5, 6])\n",
    "np_Y = df_Y.to_numpy()\n",
    "np_Y = np_Y.reshape((np_Y.shape[0],))\n",
    "\n",
    "np1 = df_X.to_numpy()\n",
    "plt.scatter(np1[:,0], np1[:,1], c=np_Y, cmap=matplotlib.colors.ListedColormap(['red', 'green', 'blue', 'purple', 'yellow', 'magenta', 'cyan']))\n",
    "plt"
   ]
  },
  {
   "cell_type": "markdown",
   "metadata": {
    "id": "jWRnBeOq0lVz"
   },
   "source": [
    "**QUESTION 1**\n",
    "\n",
    "Identify each class with the plot colors.\n",
    "\n",
    "What do the coordinates correspond to?"
   ]
  },
  {
   "cell_type": "markdown",
   "metadata": {
    "id": "LtJuZGHqWeLO"
   },
   "source": [
    "**TO DO 1.2**\n",
    "\n",
    "Execute the following cell\n"
   ]
  },
  {
   "cell_type": "code",
   "execution_count": null,
   "metadata": {
    "id": "bSrgsS8YpjIz"
   },
   "outputs": [],
   "source": [
    "from itertools import product\n",
    "from sklearn import cluster\n",
    "\n",
    "x_min, x_max = np1[:, 0].min() - 10, np1[:, 0].max() + 10\n",
    "y_min, y_max = np1[:, 1].min() - 10, np1[:, 1].max() + 10\n",
    "xx, yy = np.meshgrid(np.arange(x_min, x_max, 0.1),\n",
    "                     np.arange(y_min, y_max, 0.1))\n",
    "\n",
    "km2 = cluster.KMeans(n_clusters=2).fit(np1)\n",
    "km3 = cluster.KMeans(n_clusters=3).fit(np1)\n",
    "km4 = cluster.KMeans(n_clusters=4).fit(np1)\n",
    "km6 = cluster.KMeans(n_clusters=6).fit(np1)\n",
    "\n",
    "f, axarr = plt.subplots(2, 2, sharex='col', sharey='row', figsize=(10, 8))\n",
    "\n",
    "for idx, km, tt in zip(product([0, 1], [0, 1]),\n",
    "                        [km2, km3, km4, km6],\n",
    "                        [\"K=2, J=%.2f\" % km2.inertia_,\n",
    "                         \"K=3, J=%.2f\" % km3.inertia_, \n",
    "                         \"K=4, J=%.2f\" % km4.inertia_, \n",
    "                         \"K=6, J=%.2f\" % km6.inertia_]):\n",
    "\n",
    "    Z = km.predict(np.c_[xx.ravel(), yy.ravel()])\n",
    "    Z = Z.reshape(xx.shape)\n",
    "\n",
    "    axarr[idx[0], idx[1]].contourf(xx, yy, Z, alpha=0.4)\n",
    "    axarr[idx[0], idx[1]].scatter(np1[:, 0], np1[:, 1], c=np_Y,\n",
    "                                  s=20, cmap=matplotlib.colors.ListedColormap(['red', 'green', 'blue', 'purple', 'yellow', 'magenta', 'cyan']))\n",
    "    axarr[idx[0], idx[1]].set_title(tt)\n",
    "\n",
    "plt     "
   ]
  },
  {
   "cell_type": "markdown",
   "metadata": {
    "id": "AE-fzfNXW0tz"
   },
   "source": [
    "**QUESTION 2**\n",
    "\n",
    "How can Inertia be used to compare clusters? Can you propose a better metric for spatial datasets?\n",
    "\n",
    "Which is the main problem with the mercator representation for continent detection?"
   ]
  },
  {
   "cell_type": "markdown",
   "metadata": {
    "id": "D6UuBxgHXHkq"
   },
   "source": [
    "## STEP 2: Spatial dataset normalization"
   ]
  },
  {
   "cell_type": "markdown",
   "metadata": {
    "id": "uAU5reRhXXg0"
   },
   "source": [
    "**TO CODE 2.1**\n",
    "\n",
    "Displace the origin of longitude to 30° east."
   ]
  },
  {
   "cell_type": "code",
   "execution_count": null,
   "metadata": {
    "id": "8QK_9isfGbCi"
   },
   "outputs": [],
   "source": []
  },
  {
   "cell_type": "markdown",
   "metadata": {
    "id": "v0vtO8JxX-6r"
   },
   "source": [
    "**QUESTION 3**\n",
    "\n",
    "What are the advantages of this normalization?"
   ]
  },
  {
   "cell_type": "markdown",
   "metadata": {
    "id": "GT-yVxbtYFgS"
   },
   "source": [
    "**TO CODE 2.2**\n",
    "\n",
    "Apply KMeans to the new normalized dataset."
   ]
  },
  {
   "cell_type": "code",
   "execution_count": null,
   "metadata": {
    "id": "_buufG0sIKAX"
   },
   "outputs": [],
   "source": []
  },
  {
   "cell_type": "markdown",
   "metadata": {
    "id": "0t-hrNYoZRlX"
   },
   "source": [
    "Gaussian Mixture Model is a clustering method allowing soft boundaries.\n",
    "\n",
    "This method can be used through a [sklearn function](https://scikit-learn.org/stable/modules/generated/sklearn.mixture.GaussianMixture.html \"Gaussian Mixture\")"
   ]
  },
  {
   "cell_type": "markdown",
   "metadata": {
    "id": "j44AeyQLZOZu"
   },
   "source": [
    "**TO CODE 2.3**\n",
    "\n",
    "Apply GMM to the normalized dataset.\n",
    "\n",
    "You have to test 3 conditions:\n",
    "\n",
    "- GMM with default parameters for 2, 3, 4 and 6 components\n",
    "\n",
    "- GMM with diagonal covariance matrix for 2, 3, 4 and 6 components\n",
    "\n",
    "- GMM with random initialization for 2, 3, 4 and 6 components"
   ]
  },
  {
   "cell_type": "code",
   "execution_count": null,
   "metadata": {
    "id": "ODva5LNOswyo"
   },
   "outputs": [],
   "source": []
  },
  {
   "cell_type": "code",
   "execution_count": null,
   "metadata": {
    "id": "PFGRrI8FeGIi"
   },
   "outputs": [],
   "source": []
  },
  {
   "cell_type": "code",
   "execution_count": null,
   "metadata": {
    "id": "5GJBUQstJ3cD"
   },
   "outputs": [],
   "source": []
  },
  {
   "cell_type": "markdown",
   "metadata": {
    "id": "bPip8KLic0zL"
   },
   "source": [
    "**QUESTION 4**\n",
    "\n",
    "Which is the best method to detect continents?\n",
    "\n",
    "For this method, what would be the probability to find a country in the coordinates [-50, -40]? What methodology can you think of to detect unpopulated oceans?"
   ]
  },
  {
   "cell_type": "markdown",
   "metadata": {
    "id": "tc71-reudCGT"
   },
   "source": [
    "**BONUS**\n",
    "\n",
    "Rather than applying the previous longitudinal normalization in the mercator projected data and applying k-means, we could directly apply k-means on the unit-sphere representing the earth. The cosine similarity thus becomes a more suitable similarity measure than the euclidean distance.\n",
    "\n",
    "Apply a KMeans with cosine similarity on the sphere instead of the previously tested euclidean distance in the plane."
   ]
  },
  {
   "cell_type": "code",
   "execution_count": null,
   "metadata": {},
   "outputs": [],
   "source": []
  },
  {
   "cell_type": "markdown",
   "metadata": {
    "id": "EaXQhxCIdPoD"
   },
   "source": [
    "## STEP 3: Detection of caribbean island "
   ]
  },
  {
   "cell_type": "markdown",
   "metadata": {
    "id": "Dmau_8QTdnly"
   },
   "source": [
    "**TO CODE 3.1**\n",
    "\n",
    "Isolate the North and South American continents."
   ]
  },
  {
   "cell_type": "code",
   "execution_count": null,
   "metadata": {
    "id": "bX9PfOEgNyiL"
   },
   "outputs": [],
   "source": []
  },
  {
   "cell_type": "markdown",
   "metadata": {
    "id": "LfrCUsGm0gZz"
   },
   "source": [
    "**TO CODE 3.2**\n",
    "\n",
    "Propose a methodology to create a cluster including caribbean independent nations."
   ]
  },
  {
   "cell_type": "code",
   "execution_count": null,
   "metadata": {
    "id": "4_voR1x7Rcg5"
   },
   "outputs": [],
   "source": []
  },
  {
   "cell_type": "markdown",
   "metadata": {
    "id": "Cd06vhlAf-me"
   },
   "source": [
    "**QUESTION 5**\n",
    "\n",
    "Which is the outlier of this clustering problem?"
   ]
  },
  {
   "cell_type": "markdown",
   "metadata": {},
   "source": [
    "## STEP 4 : Evaluating a cluster\n",
    "\n",
    "In this section, we try to evaluate the quality of the different clusters computed."
   ]
  },
  {
   "cell_type": "markdown",
   "metadata": {},
   "source": [
    "**TO DO 4.1**\n",
    "Execute the following cells. On the first cell, you can add code to once again displace the longitude by 30° east."
   ]
  },
  {
   "cell_type": "code",
   "execution_count": null,
   "metadata": {},
   "outputs": [],
   "source": [
    "df_X = df1[['Longitude', 'Latitude']]\n",
    "df_Status = df1[['Continent']]\n",
    "\n",
    "df_Y = df_Status.replace(['Africa', 'Asia', 'Europe', 'North America', 'South America', 'Seven seas', 'Oceania'], [0, 1, 2, 3, 4, 5, 6])\n",
    "np_Y = df_Y.to_numpy()\n",
    "np_Y = np_Y.reshape((np_Y.shape[0],))\n",
    "\n",
    "np1 = df_X.to_numpy()\n",
    "plt.scatter(np1[:,0], np1[:,1], c=np_Y, cmap=matplotlib.colors.ListedColormap(['red', 'green', 'blue', 'purple', 'yellow', 'magenta', 'cyan']))\n",
    "plt.show()\n"
   ]
  },
  {
   "cell_type": "code",
   "execution_count": null,
   "metadata": {},
   "outputs": [],
   "source": [
    "x_min, x_max = np1[:, 0].min() - 10, np1[:, 0].max() + 10\n",
    "y_min, y_max = np1[:, 1].min() - 10, np1[:, 1].max() + 10\n",
    "xx, yy = np.meshgrid(np.arange(x_min, x_max, 0.1),\n",
    "                     np.arange(y_min, y_max, 0.1))"
   ]
  },
  {
   "cell_type": "code",
   "execution_count": null,
   "metadata": {},
   "outputs": [],
   "source": [
    "from sklearn.metrics import silhouette_samples, silhouette_score\n",
    "\n",
    "K = 3\n",
    "\n",
    "fig, (ax1, ax2) = plt.subplots(1, 2)\n",
    "ax1.set_xlim([-0.1, 1])\n",
    "ax1.set_ylim([0, len(np1) + (K + 1) * 10])\n",
    "\n",
    "km = cluster.KMeans(n_clusters=K, random_state=10)\n",
    "cluster_labels = km.fit_predict(np1)\n",
    "\n",
    "silhouette_avg = silhouette_score(np1, cluster_labels)\n",
    "print(\"For n_clusters =\", K, \"The average silhouette_score is :\", silhouette_avg)\n",
    "sample_silhouette_values = silhouette_samples(np1, cluster_labels)\n",
    "\n",
    "y_lower = 10\n",
    "for i in range(K):\n",
    "    ith_cluster_silhouette_values = sample_silhouette_values[cluster_labels == i]\n",
    "    ith_cluster_silhouette_values.sort()\n",
    "    \n",
    "    size_cluster_i = ith_cluster_silhouette_values.shape[0]\n",
    "    y_upper = y_lower + size_cluster_i\n",
    "\n",
    "    ax1.fill_betweenx(\n",
    "        np.arange(y_lower, y_upper),\n",
    "        0,\n",
    "        ith_cluster_silhouette_values,\n",
    "        alpha=0.7,\n",
    "    )\n",
    "\n",
    "    ax1.text(-0.05, y_lower + 0.5 * size_cluster_i, str(i))\n",
    "\n",
    "    y_lower = y_upper + 10  # 10 for the 0 samples\n",
    "\n",
    "    ax1.set_title(\"The silhouette plot for the various clusters.\")\n",
    "    ax1.set_xlabel(\"The silhouette coefficient values\")\n",
    "    ax1.set_ylabel(\"Cluster label\")\n",
    "\n",
    "    # The vertical line for average silhouette score of all the values\n",
    "    ax1.axvline(x=silhouette_avg, color=\"red\", linestyle=\"--\")\n",
    "\n",
    "    ax1.set_yticks([])  # Clear the yaxis labels / ticks\n",
    "    ax1.set_xticks([-0.1, 0, 0.2, 0.4, 0.6, 0.8, 1])\n",
    "\n",
    "    # 2nd Plot showing the actual clusters formed\n",
    "    Z = km.predict(np.c_[xx.ravel(), yy.ravel()])\n",
    "    Z = Z.reshape(xx.shape)\n",
    "\n",
    "    ax2.contourf(xx, yy, Z, alpha=0.4)\n",
    "    ax2.scatter(np1[:, 0], np1[:, 1], c=np_Y,\n",
    "                s=20, cmap=matplotlib.colors.ListedColormap(['red', 'green', 'blue', 'purple', 'yellow', 'magenta', 'cyan']))\n",
    "\n",
    "    # Labeling the clusters\n",
    "    centers = km.cluster_centers_\n",
    "    # Draw white circles at cluster centers\n",
    "    ax2.scatter(\n",
    "        centers[:, 0],\n",
    "        centers[:, 1],\n",
    "        marker=\"o\",\n",
    "        c=\"white\",\n",
    "        alpha=1,\n",
    "        s=200,\n",
    "        edgecolor=\"k\",\n",
    "    )\n",
    "\n",
    "    for i, c in enumerate(centers):\n",
    "        ax2.scatter(c[0], c[1], marker=\"$%d$\" % i, alpha=1, s=50, edgecolor=\"k\")\n",
    "\n",
    "    ax2.set_title(\"The visualization of the clustered data.\")\n",
    "    ax2.set_xlabel(\"Feature space for the 1st feature\")\n",
    "    ax2.set_ylabel(\"Feature space for the 2nd feature\")\n",
    "\n",
    "    plt.suptitle(\n",
    "        \"Silhouette analysis for KMeans clustering on sample data with n_clusters = %d\"\n",
    "        % K,\n",
    "        fontsize=14,\n",
    "        fontweight=\"bold\",\n",
    "    )\n",
    "\n",
    "plt.show()"
   ]
  },
  {
   "cell_type": "markdown",
   "metadata": {},
   "source": [
    "**TO DO 4.2**\n",
    "\n",
    "Apply the previous code for different values of K (2,3,4 and 6)."
   ]
  },
  {
   "cell_type": "code",
   "execution_count": null,
   "metadata": {},
   "outputs": [],
   "source": []
  },
  {
   "cell_type": "markdown",
   "metadata": {},
   "source": [
    "**Question 6** \n",
    "\n",
    "According to the silhouette score and the silhouette analysis, which is the most relevant value of K ? Justify your response."
   ]
  },
  {
   "cell_type": "markdown",
   "metadata": {},
   "source": [
    "**BONUS** \n",
    "\n",
    "Compute the silhouette score and analyze it for different number of components and parameters of Gaussian Mixture."
   ]
  },
  {
   "cell_type": "markdown",
   "metadata": {},
   "source": [
    "**TO CODE 4.3**\n",
    "\n",
    "Another way to evaluate the quality of the clustering is through the homogeneity. This metric require a ground truth, so it can't be computed for every clustering problem. Luckily, we do have a ground truth here. Compute the [homogeneity score](https://scikit-learn.org/stable/modules/generated/sklearn.metrics.homogeneity_score.html \"Homogeneity score\") for different values of K."
   ]
  },
  {
   "cell_type": "code",
   "execution_count": null,
   "metadata": {},
   "outputs": [],
   "source": []
  },
  {
   "cell_type": "markdown",
   "metadata": {},
   "source": [
    "**Question 7**\n",
    "\n",
    "According to the homogeneity score, which is the most relevant value of K ?"
   ]
  },
  {
   "cell_type": "markdown",
   "metadata": {},
   "source": [
    "**BONUS**\n",
    "Compute the homogeneity score and analyze it for different number of components and parameters of Gaussian Mixture."
   ]
  },
  {
   "cell_type": "markdown",
   "metadata": {
    "id": "QIUsnXPXgHfH"
   },
   "source": [
    "## BONUS STEP 5: Alcoholism"
   ]
  },
  {
   "cell_type": "markdown",
   "metadata": {
    "id": "IT1X6nd4Ny_1"
   },
   "source": [
    "This step is entirely optional and combines all the methods you used for this 3 TPs course.\n",
    "\n",
    "The main goal is to develop a complete methodology to answer general questions.\n",
    "\n",
    "All questions have to be justified by your homemade methodology and your methodology has also to be justified.\n",
    "\n",
    "**QUESTION 1**\n",
    "\n",
    "In the year 2000, which countries are heavily concerned by an Alcohol issue?\n",
    "\n",
    "**QUESTION 2**\n",
    "\n",
    "In these countries and in 2000, which are the parameters linked with Alcoholism? How do you explain these links?\n",
    "\n",
    "**QUESTION 3**\n",
    "\n",
    "Which is the evolution trend in these countries between 2000 and 2015? Try to separate these different trends.\n",
    "\n",
    "**QUESTION 4**\n",
    "\n",
    "By selecting a specific country, can you explain a decrease or an increase through specific policies?"
   ]
  }
 ],
 "metadata": {
  "colab": {
   "collapsed_sections": [],
   "name": "TP3_Clustering.ipynb",
   "provenance": []
  },
  "kernelspec": {
   "display_name": "Python 3 (ipykernel)",
   "language": "python",
   "name": "python3"
  },
  "language_info": {
   "codemirror_mode": {
    "name": "ipython",
    "version": 3
   },
   "file_extension": ".py",
   "mimetype": "text/x-python",
   "name": "python",
   "nbconvert_exporter": "python",
   "pygments_lexer": "ipython3",
   "version": "3.8.10"
  }
 },
 "nbformat": 4,
 "nbformat_minor": 1
}
